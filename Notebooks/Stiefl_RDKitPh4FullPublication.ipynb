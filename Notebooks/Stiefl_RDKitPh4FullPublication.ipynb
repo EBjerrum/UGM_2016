{
 "cells": [
  {
   "cell_type": "markdown",
   "metadata": {},
   "source": [
    "# 3D pharmacophores in the rdkit"
   ]
  },
  {
   "cell_type": "markdown",
   "metadata": {},
   "source": [
    "The RDKit features functionality to align molecules to pharmacophoric features in 3D. This can be used for a simple alignment as well as for a fast pharmacophore searching. Pharmcacophore features are based on so-called feature factories ( a sample file \"BaseFeatures.fdef\" can be found in the Data directory ). \n",
    "\n",
    "The method is a three step procedure:\n",
    "1. conversion of the 3D pharmacophore to a boundary matrix\n",
    "2. matching of the pharmacophore to the boundary matrix of the target molecule using triangle smoothing\n",
    "3. embedding of the molecule to the pharmacophore using distance geometry (UFF force field)\n",
    "\n",
    "Here, we provide some guidance on how to use the 3D pharmacophore tools in the RDKit based on an example. We will create a pharmacophore from an ALK5 kinase crystal structure (PDB:1PY5) and will show how to align a sample structures extracted from the crystal structure."
   ]
  },
  {
   "cell_type": "markdown",
   "metadata": {},
   "source": [
    "In the crystal structure, the main interaction patterns that can be identified are the hydrogen bonds between the ligand and H283 as well as the water W5 in the backpocket. In both cases the ligand interacts as an H-bond acceptor. In addition, there is a weak H-bond donor functionality interacting with D351. Apart from the directional interactions the ligand has aromatic interactions with its chinoline as well as the backpocket pyridine.\n",
    "\n",
    "![ALK5 1PY5 binding mode](images/kinaseOverview.png)\n",
    "\n",
    "Based on that information we can now start setting up a pharmacophore (ph4)"
   ]
  },
  {
   "cell_type": "code",
   "execution_count": 1,
   "metadata": {
    "collapsed": false
   },
   "outputs": [],
   "source": [
    "from __future__ import print_function\n",
    "from rdkit import RDConfig, Chem, Geometry, DistanceGeometry\n",
    "from rdkit.Chem import ChemicalFeatures, rdDistGeom, Draw, rdMolTransforms\n",
    "from rdkit.Chem.Pharm3D import Pharmacophore, EmbedLib\n",
    "from rdkit.Chem.Draw import IPythonConsole, DrawingOptions\n",
    "from rdkit.Numerics import rdAlignment"
   ]
  },
  {
   "cell_type": "markdown",
   "metadata": {},
   "source": [
    "### Setting up a pharmacophore"
   ]
  },
  {
   "cell_type": "markdown",
   "metadata": {},
   "source": [
    "In the RDkit a pharmacophore is defined by an object with a set of free chemical features (like acceptors, donors etc.) and a boundary matrix that describes the location of the features with respect to each other. One can define such a pharmacophore object manually."
   ]
  },
  {
   "cell_type": "code",
   "execution_count": 2,
   "metadata": {
    "collapsed": false
   },
   "outputs": [],
   "source": [
    "import os.path\n",
    "fdef = os.path.join(RDConfig.RDDataDir,'BaseFeatures.fdef')\n",
    "featFactory = ChemicalFeatures.BuildFeatureFactory(fdef)\n",
    "samplePh4Feats = [ChemicalFeatures.FreeChemicalFeature('Acceptor', Geometry.Point3D(3.877, 7.014, 1.448)),\n",
    "            ChemicalFeatures.FreeChemicalFeature('Acceptor', Geometry.Point3D(7.220, 11.077, 5.625)),\n",
    "            ChemicalFeatures.FreeChemicalFeature('Acceptor', Geometry.Point3D(4.778, 8.432, 7.805))]\n",
    "samplePcophore = Pharmacophore.Pharmacophore(samplePh4Feats)"
   ]
  },
  {
   "cell_type": "code",
   "execution_count": 3,
   "metadata": {
    "collapsed": false
   },
   "outputs": [
    {
     "data": {
      "text/plain": [
       "array([[ 0.        ,  6.71795706,  6.57525467],\n",
       "       [ 6.71795706,  0.        ,  4.20853763],\n",
       "       [ 6.57525467,  4.20853763,  0.        ]])"
      ]
     },
     "execution_count": 3,
     "metadata": {},
     "output_type": "execute_result"
    }
   ],
   "source": [
    "samplePcophore._boundsMat"
   ]
  },
  {
   "cell_type": "markdown",
   "metadata": {},
   "source": [
    "When applied in drug discovery projects, pharmacophore features are usually described as fuzzy locations in space. To describe this kind of fuzziness it is possible to manually change the lower and upper bounds of the respective points in the pharmacophore boundary matrix. "
   ]
  },
  {
   "cell_type": "code",
   "execution_count": 4,
   "metadata": {
    "collapsed": false
   },
   "outputs": [],
   "source": [
    "samplePcophore.setLowerBound(0,1,6.0)\n",
    "samplePcophore.setUpperBound(0,1,7.0)\n",
    "samplePcophore.setLowerBound(0,2,6.0)\n",
    "samplePcophore.setUpperBound(0,2,7.0)\n",
    "samplePcophore.setLowerBound(1,2,3.5)\n",
    "samplePcophore.setUpperBound(1,2,5.0)"
   ]
  },
  {
   "cell_type": "code",
   "execution_count": 5,
   "metadata": {
    "collapsed": false
   },
   "outputs": [
    {
     "data": {
      "text/plain": [
       "array([[ 0. ,  7. ,  7. ],\n",
       "       [ 6. ,  0. ,  5. ],\n",
       "       [ 6. ,  3.5,  0. ]])"
      ]
     },
     "execution_count": 5,
     "metadata": {},
     "output_type": "execute_result"
    }
   ],
   "source": [
    "samplePcophore._boundsMat"
   ]
  },
  {
   "cell_type": "markdown",
   "metadata": {},
   "source": [
    "However, mostly end users will describe a three dimensional pharmacophore using a graphical interface and then write out the details to a flat file. Here, we will show an application of this using a pharmacophore (based on the above) created using MOE."
   ]
  },
  {
   "cell_type": "code",
   "execution_count": 6,
   "metadata": {
    "collapsed": false
   },
   "outputs": [],
   "source": [
    "moePh43Point = \"\"\"#moe:ph4que 2014.09\n",
    "#pharmacophore 7 tag t value *\n",
    "scheme t Unified matchsize i 0 use_Hs i 1 abspos i 0 title t $ useRval i 0 comment s $\n",
    "#feature 3 expr tt color ix x r y r z r r r ebits ix gbits ix m ix\n",
    "Acc df2f2 3.877 7.014 1.448 0.3 0 400 a64cff \n",
    "Acc df2f2 7.22 11.077 5.625 0.3 0 400 a64cff \n",
    "Don f20df2 4.778 8.432 7.805 0.3 0 400 a64cff\n",
    "#endpharmacophore\"\"\""
   ]
  },
  {
   "cell_type": "code",
   "execution_count": 7,
   "metadata": {
    "collapsed": false
   },
   "outputs": [
    {
     "data": {
      "text/plain": [
       "['#moe:ph4que 2014.09',\n",
       " '#pharmacophore 7 tag t value *',\n",
       " 'scheme t Unified matchsize i 0 use_Hs i 1 abspos i 0 title t $ useRval i 0 comment s $',\n",
       " '#feature 3 expr tt color ix x r y r z r r r ebits ix gbits ix m ix',\n",
       " 'Acc df2f2 3.877 7.014 1.448 0.3 0 400 a64cff ',\n",
       " 'Acc df2f2 7.22 11.077 5.625 0.3 0 400 a64cff ',\n",
       " 'Don f20df2 4.778 8.432 7.805 0.3 0 400 a64cff',\n",
       " '#endpharmacophore']"
      ]
     },
     "execution_count": 7,
     "metadata": {},
     "output_type": "execute_result"
    }
   ],
   "source": [
    "moePh43Point.split(\"\\n\")"
   ]
  },
  {
   "cell_type": "markdown",
   "metadata": {},
   "source": [
    "First we need to parse the MOE ph4 content and then convert it into something useful for the RDKit (a pharmacophore object)"
   ]
  },
  {
   "cell_type": "code",
   "execution_count": 8,
   "metadata": {
    "collapsed": false
   },
   "outputs": [],
   "source": [
    "#########################\n",
    "# parse the ph4 content #\n",
    "#########################\n",
    "def parsePh4Content(moePh4List):\n",
    "  ph4Info = {}\n",
    "  header = []\n",
    "  content = []\n",
    "  for line in moePh4List.split(\"\\n\"):\n",
    "    if line[0] == \"#\":\n",
    "      if len(header) > 0:\n",
    "        ph4Info[header[0]] = (header,content)\n",
    "        header = []\n",
    "        content = []\n",
    "      header = line.strip().split()\n",
    "    else:\n",
    "      content.extend(line.strip().split())\n",
    "  return ph4Info\n",
    "\n",
    "############################    \n",
    "# convert the feature info #\n",
    "############################\n",
    "def convertFeatureInfo(ph4InfoDict):\n",
    "  feats = []\n",
    "  radii=[]\n",
    "  # this is the conversion of the moe ph4 nomenclature to the rdkit one\n",
    "  moePh4Conv = {\"Acc\":\"Acceptor\",\"Don\":\"Donor\",\"Aro\":\"Aromatic\",\"Hyd\":\"Hydrophobe\"}  \n",
    "  header,content = ph4InfoDict['#feature']\n",
    "  noFeats = int(header[1])\n",
    "  lenSingleFeature = int((len(header)/2)-1)\n",
    "  # loop over ph4 features and populate pharmacophore object\n",
    "  for i in range(noFeats):\n",
    "    featFamily = content[(lenSingleFeature*i)]\n",
    "    (x,y,z) = (float(content[(lenSingleFeature*i)+2]),float(content[(lenSingleFeature*i)+3]),\n",
    "               float(content[(lenSingleFeature*i)+4]))\n",
    "    r = float(content[(lenSingleFeature*i)+5])\n",
    "    feats.append(ChemicalFeatures.FreeChemicalFeature(moePh4Conv[featFamily],Geometry.Point3D(x,y,z)))\n",
    "    radii.append(r)\n",
    "  return (feats,radii)\n"
   ]
  },
  {
   "cell_type": "code",
   "execution_count": 9,
   "metadata": {
    "collapsed": true
   },
   "outputs": [],
   "source": [
    "############################\n",
    "# create the pharmacophore #\n",
    "############################\n",
    "ph4Info = parsePh4Content(moePh43Point)\n",
    "feats,radii = convertFeatureInfo(ph4Info)\n",
    "pcophore = Pharmacophore.Pharmacophore(feats)"
   ]
  },
  {
   "cell_type": "markdown",
   "metadata": {},
   "source": [
    "Now that we have the pharmacophore object created we need to modfy the bounds matrix to incorporate the radii of the various ph4 features. For this, we set the respective lower and upper boundaries in the bounds matrix of the pharmacophore object. For this we calculate the distance between the features and subtract (lower bounds) or add (upper bounds) the summ of the respective feature radii (see image).\n",
    "\n",
    "![MOE PH4 distance example](images/1py5Ph4DistancesOrig.png)\n",
    "\n",
    "For example, the distance between F1:Acc and F2:Acc is 6.72 Angstrom and the corresponding feature radii are 1.0 Angstrom each. So, in order to include the fuzziness of the pharmacophores the lower bounds are then set to max(featureDistance-(F1Radii+F2Radii),0). The max() is here applied in order to avoid having negative bounds values. The same is done for the upper bounds only that in this case the same of the radii is added to the distance\n",
    "\n",
    "![Fuzzy boundary matrix](images/1py5Ph4DistanceExample.png)"
   ]
  },
  {
   "cell_type": "code",
   "execution_count": 10,
   "metadata": {
    "collapsed": false
   },
   "outputs": [
    {
     "data": {
      "text/plain": [
       "array([[ 0.        ,  6.71795706,  6.57525467],\n",
       "       [ 6.71795706,  0.        ,  4.20853763],\n",
       "       [ 6.57525467,  4.20853763,  0.        ]])"
      ]
     },
     "execution_count": 10,
     "metadata": {},
     "output_type": "execute_result"
    }
   ],
   "source": [
    "pcophore._boundsMat"
   ]
  },
  {
   "cell_type": "code",
   "execution_count": 11,
   "metadata": {
    "collapsed": false
   },
   "outputs": [],
   "source": [
    "def applyRadiiToBounds(radii,pcophore):\n",
    "  for i in range(len(radii)):\n",
    "    for j in range(i+1,len(radii)):\n",
    "      sumRadii = radii[i]+radii[j]\n",
    "      pcophore.setLowerBound(i,j,max(pcophore.getLowerBound(i,j)-sumRadii,0))\n",
    "      pcophore.setUpperBound(i,j,pcophore.getUpperBound(i,j)+sumRadii)\n",
    "applyRadiiToBounds(radii,pcophore)"
   ]
  },
  {
   "cell_type": "code",
   "execution_count": 12,
   "metadata": {
    "collapsed": false
   },
   "outputs": [
    {
     "data": {
      "text/plain": [
       "array([[ 0.        ,  7.31795706,  7.17525467],\n",
       "       [ 6.11795706,  0.        ,  4.80853763],\n",
       "       [ 5.97525467,  3.60853763,  0.        ]])"
      ]
     },
     "execution_count": 12,
     "metadata": {},
     "output_type": "execute_result"
    }
   ],
   "source": [
    "pcophore._boundsMat"
   ]
  },
  {
   "cell_type": "markdown",
   "metadata": {},
   "source": [
    "### Checking a molecule against a pharmacophore"
   ]
  },
  {
   "cell_type": "markdown",
   "metadata": {},
   "source": [
    "The RDKit provides a simple method to check a pharmacophore against a molecule. The idea of this is to filter out quickly molecules for which an embedding is not possible. Essentially, the molecule is analyzed for its pharmacophoric features and those are checked against the features of the pharmacophore. The output is a boolean indicating whether or not the molecule can fulfill the pharmacophore purely based on its features as well as a list of all possible mappings of the pharmacophore to the molecule."
   ]
  },
  {
   "cell_type": "code",
   "execution_count": 13,
   "metadata": {
    "collapsed": false
   },
   "outputs": [],
   "source": [
    "ligand = Chem.MolFromSmiles(\"c1ccc(-c2n[nH]cc2-c2ccnc3ccccc23)nc1\")"
   ]
  },
  {
   "cell_type": "code",
   "execution_count": 14,
   "metadata": {
    "collapsed": false
   },
   "outputs": [
    {
     "data": {
      "image/png": "[encoded data removed]",
      "text/plain": [
       "<PIL.Image.Image image mode=RGBA size=300x300 at 0x7F9C08B32D30>"
      ]
     },
     "execution_count": 14,
     "metadata": {},
     "output_type": "execute_result"
    }
   ],
   "source": [
    "DrawingOptions.bondLineWidth=1.8\n",
    "DrawingOptions.atomLabelFontSize=14\n",
    "DrawingOptions.includeAtomNumbers=True\n",
    "Draw.MolToImage(ligand,options=DrawingOptions)"
   ]
  },
  {
   "cell_type": "code",
   "execution_count": 15,
   "metadata": {
    "collapsed": false
   },
   "outputs": [],
   "source": [
    "canMatch,allMatches = EmbedLib.MatchPharmacophoreToMol(ligand,featFactory,pcophore) "
   ]
  },
  {
   "cell_type": "code",
   "execution_count": 16,
   "metadata": {
    "collapsed": false
   },
   "outputs": [
    {
     "data": {
      "text/plain": [
       "True"
      ]
     },
     "execution_count": 16,
     "metadata": {},
     "output_type": "execute_result"
    }
   ],
   "source": [
    "canMatch"
   ]
  },
  {
   "cell_type": "code",
   "execution_count": 17,
   "metadata": {
    "collapsed": false
   },
   "outputs": [
    {
     "name": "stdout",
     "output_type": "stream",
     "text": [
      "0 Acceptor SingleAtomAcceptor (5,)\n",
      "0 Acceptor SingleAtomAcceptor (12,)\n",
      "0 Acceptor SingleAtomAcceptor (19,)\n",
      "1 Acceptor SingleAtomAcceptor (5,)\n",
      "1 Acceptor SingleAtomAcceptor (12,)\n",
      "1 Acceptor SingleAtomAcceptor (19,)\n",
      "2 Donor SingleAtomDonor (5,)\n",
      "2 Donor SingleAtomDonor (6,)\n"
     ]
    }
   ],
   "source": [
    "for (i,match) in enumerate(allMatches):\n",
    "  for f in match:\n",
    "    print(\"%d %s %s %s\"%(i, f.GetFamily(), f.GetType(), f.GetAtomIds()))"
   ]
  },
  {
   "cell_type": "markdown",
   "metadata": {},
   "source": [
    "### Matching a molecule to a pharmacophore"
   ]
  },
  {
   "cell_type": "markdown",
   "metadata": {},
   "source": [
    "Since the RDKit pharmacophore module is based on distance geometry, a molecule can be matched to a pharmacophore without actually aligning it to the pharmacophore. For this, the molecules' (smoothed) bounds matrix is updated with the distances of the pharmacophore bounds at the respective atom matches. Then, the algorithm tries to smooth the modified bounds matrix. "
   ]
  },
  {
   "cell_type": "code",
   "execution_count": 18,
   "metadata": {
    "collapsed": false
   },
   "outputs": [],
   "source": [
    "boundsMat = rdDistGeom.GetMoleculeBoundsMatrix(ligand)"
   ]
  },
  {
   "cell_type": "code",
   "execution_count": 19,
   "metadata": {
    "collapsed": false
   },
   "outputs": [],
   "source": [
    "if canMatch:\n",
    "  failed,boundsMatMatched,matched,matchDetails = EmbedLib.MatchPharmacophore(allMatches,boundsMat,\n",
    "                                                                             pcophore,useDownsampling=False)"
   ]
  },
  {
   "cell_type": "markdown",
   "metadata": {},
   "source": [
    "Apart from an indicator if the molecule could be matched to the pharmacophore (failed), a lot of useful information is returned. The molecules' smoothed bounds matrix (boundsMatMatched) as well as information of what atoms were matched to the pharmacophore (matched)."
   ]
  },
  {
   "cell_type": "code",
   "execution_count": 20,
   "metadata": {
    "collapsed": false
   },
   "outputs": [
    {
     "data": {
      "text/plain": [
       "0"
      ]
     },
     "execution_count": 20,
     "metadata": {},
     "output_type": "execute_result"
    }
   ],
   "source": [
    "failed"
   ]
  },
  {
   "cell_type": "code",
   "execution_count": 21,
   "metadata": {
    "collapsed": false
   },
   "outputs": [
    {
     "data": {
      "text/plain": [
       "(21, 21)"
      ]
     },
     "execution_count": 21,
     "metadata": {},
     "output_type": "execute_result"
    }
   ],
   "source": [
    "boundsMatMatched.shape"
   ]
  },
  {
   "cell_type": "code",
   "execution_count": 22,
   "metadata": {
    "collapsed": false
   },
   "outputs": [
    {
     "name": "stdout",
     "output_type": "stream",
     "text": [
      "Acceptor 12\n",
      "Acceptor 19\n",
      "Donor 5\n"
     ]
    }
   ],
   "source": [
    "for match in matched:\n",
    "  print(\"%s %d\"%(match.GetFamily(),match.GetAtomIds()[0]))"
   ]
  },
  {
   "cell_type": "markdown",
   "metadata": {},
   "source": [
    "Computation times of bounds smoothing depend heavily on the size of the bounds matrix. To speed up things, the RDKit provides an argument to the MatchPharmacophore method (useDownsampling) which essentially reduces the bounds matrix to the relevant elements and then does the bounds smoothing on the reduced matrix. The matchDetails return value is a tuple that provides information on the size of the input bounds matrix as well as the output bounds matrix. If downsampling is not enabled both values are identical if not they differ where the second element is the reduced bounds matrix size."
   ]
  },
  {
   "cell_type": "code",
   "execution_count": 23,
   "metadata": {
    "collapsed": false
   },
   "outputs": [
    {
     "data": {
      "text/plain": [
       "(21, 21)"
      ]
     },
     "execution_count": 23,
     "metadata": {},
     "output_type": "execute_result"
    }
   ],
   "source": [
    "matchDetails"
   ]
  },
  {
   "cell_type": "code",
   "execution_count": 24,
   "metadata": {
    "collapsed": false
   },
   "outputs": [],
   "source": [
    "failed,boundsMatMatched,matched,matchDetails = EmbedLib.MatchPharmacophore(allMatches,boundsMat,\n",
    "                                                                           pcophore,useDownsampling=True)"
   ]
  },
  {
   "cell_type": "code",
   "execution_count": 25,
   "metadata": {
    "collapsed": false
   },
   "outputs": [
    {
     "data": {
      "text/plain": [
       "0"
      ]
     },
     "execution_count": 25,
     "metadata": {},
     "output_type": "execute_result"
    }
   ],
   "source": [
    "failed"
   ]
  },
  {
   "cell_type": "code",
   "execution_count": 26,
   "metadata": {
    "collapsed": false
   },
   "outputs": [
    {
     "data": {
      "text/plain": [
       "(21, 13)"
      ]
     },
     "execution_count": 26,
     "metadata": {},
     "output_type": "execute_result"
    }
   ],
   "source": [
    "matchDetails"
   ]
  },
  {
   "cell_type": "markdown",
   "metadata": {},
   "source": [
    "### Embedding a molecule onto a pharmacophore ( NOT the actual alignment)"
   ]
  },
  {
   "cell_type": "markdown",
   "metadata": {},
   "source": [
    "Now that we know that the molecule should actually embed onto the pharmacophore and how (using the list of matches returned from MatchPharmacophore), embedding the molecule (with the ph4 constraints) is actually quite straightforward."
   ]
  },
  {
   "cell_type": "code",
   "execution_count": 27,
   "metadata": {
    "collapsed": false
   },
   "outputs": [],
   "source": [
    "atomMatch = [list(x.GetAtomIds()) for x in matched]"
   ]
  },
  {
   "cell_type": "code",
   "execution_count": 28,
   "metadata": {
    "collapsed": false
   },
   "outputs": [
    {
     "data": {
      "text/plain": [
       "[[12], [19], [5]]"
      ]
     },
     "execution_count": 28,
     "metadata": {},
     "output_type": "execute_result"
    }
   ],
   "source": [
    "atomMatch"
   ]
  },
  {
   "cell_type": "code",
   "execution_count": 29,
   "metadata": {
    "collapsed": false
   },
   "outputs": [],
   "source": [
    "bm,embeddings,numFail = EmbedLib.EmbedPharmacophore(ligand,atomMatch,pcophore,count=10)"
   ]
  },
  {
   "cell_type": "code",
   "execution_count": 30,
   "metadata": {
    "collapsed": false
   },
   "outputs": [
    {
     "data": {
      "text/plain": [
       "0"
      ]
     },
     "execution_count": 30,
     "metadata": {},
     "output_type": "execute_result"
    }
   ],
   "source": [
    "numFail"
   ]
  },
  {
   "cell_type": "code",
   "execution_count": 31,
   "metadata": {
    "collapsed": false
   },
   "outputs": [
    {
     "data": {
      "text/plain": [
       "10"
      ]
     },
     "execution_count": 31,
     "metadata": {},
     "output_type": "execute_result"
    }
   ],
   "source": [
    "len(embeddings)"
   ]
  },
  {
   "cell_type": "markdown",
   "metadata": {},
   "source": [
    "In this case none of the embeddings failed. Note - at this stage the molecule is just embedded onto the pharmacophore and not aligned to it. "
   ]
  },
  {
   "cell_type": "markdown",
   "metadata": {},
   "source": [
    "### Aligning an embedding to a pharmacophore"
   ]
  },
  {
   "cell_type": "markdown",
   "metadata": {},
   "source": [
    "In order to do the the alignment code provided by the RDKit can be used. First we start by generating the coordinates of the matching pharmacophoric points - since this can be multiple points per match we cannot just use the atomIds and do the alignment based on that. For this, we create the geometric mean of the multiple atoms coordinates and use that to align to the pharmacophore features. "
   ]
  },
  {
   "cell_type": "code",
   "execution_count": 32,
   "metadata": {
    "collapsed": false
   },
   "outputs": [
    {
     "data": {
      "text/plain": [
       "[0.3321247112609953,\n",
       " 0.3236217084447972,\n",
       " 0.32269825992559475,\n",
       " 0.32268316262663177,\n",
       " 0.3375870339269582,\n",
       " 0.3274337024544991,\n",
       " 0.34295635393173285,\n",
       " 0.3197867028216379,\n",
       " 0.327922173155347,\n",
       " 0.32504453049968873]"
      ]
     },
     "execution_count": 32,
     "metadata": {},
     "output_type": "execute_result"
    }
   ],
   "source": [
    "def GetTransformMatrix(alignRef,confEmbed,atomMatch):\n",
    "  alignProbe = []\n",
    "  for matchIds in atomMatch:\n",
    "    dummyPoint = Geometry.Point3D(0.0,0.0,0.0)\n",
    "    for id in matchIds:\n",
    "      dummyPoint += confEmbed.GetAtomPosition(id)\n",
    "    dummyPoint /= len(matchIds)\n",
    "    alignProbe.append(dummyPoint)\n",
    "  return (rdAlignment.GetAlignmentTransform(alignRef,alignProbe))\n",
    "\n",
    "def TransformEmbeddings(pcophore,embeddings,atomMatch):\n",
    "  alignRef = [f.GetPos() for f in pcophore.getFeatures()]\n",
    "  SSDs = []\n",
    "  for embedding in embeddings:\n",
    "    conf = embedding.GetConformer()\n",
    "    SSD,transformMatrix = GetTransformMatrix(alignRef,conf,atomMatch)\n",
    "    rdMolTransforms.TransformConformer(conf,transformMatrix)\n",
    "    SSDs.append(SSD)\n",
    "  return(SSDs)\n",
    "\n",
    "TransformEmbeddings(pcophore,embeddings,atomMatch)"
   ]
  },
  {
   "cell_type": "markdown",
   "metadata": {},
   "source": [
    "All alignments seem to work pretty well (low squared deviation values). This is also true when looking at how the pharmacophoric features of the lgand fit the pharmacophoric query.\n",
    "\n",
    "![Aligned Embeddings](images/alignEmbed3Point.png)\n",
    "\n",
    "Unfortunately the query wasn't setup very well with respect to \"fixing\" the molecules. I.e. the chinoline as well as the backpocket pyridine binding moiety are spread all over 3D space. This can be improved by a modified query that now also contains an additional aromatic feature next to the hinge binder.\n",
    "\n",
    "![4point ph4](images/1py5Ph44pointph4InPocket.png)\n",
    "\n",
    "Running the same alignment as above ..."
   ]
  },
  {
   "cell_type": "code",
   "execution_count": 33,
   "metadata": {
    "collapsed": true
   },
   "outputs": [],
   "source": [
    "moePh44Point = \"\"\"#moe:ph4que 2014.09\n",
    "#pharmacophore 7 tag t value *\n",
    "scheme t Unified matchsize i 0 use_Hs i 1 abspos i 0 title t $ useRval i 0 comment s $\n",
    "#feature 4 expr tt color ix x r y r z r r r ebits ix gbits ix m ix\n",
    "Acc df2f2 3.877 7.014 1.448 0.3 0 400 a64cff \n",
    "Acc df2f2 7.22 11.077 5.625 0.3 0 400 a64cff \n",
    "Don f20df2 4.778 8.432 7.805 0.3 0 400 a64cff \n",
    "Aro ff8000 1.56433333333334 7.06399999999999 3.135 1.5 0 400 a64cff\n",
    "#endpharmacophore\"\"\"\n"
   ]
  },
  {
   "cell_type": "code",
   "execution_count": 34,
   "metadata": {
    "collapsed": false
   },
   "outputs": [
    {
     "data": {
      "text/plain": [
       "[7.915173223555158,\n",
       " 4.7842546333541165,\n",
       " 0.6788058133483901,\n",
       " 2.5692061536218915,\n",
       " 5.28204553473288,\n",
       " 0.8071252628471228,\n",
       " 11.540427927405645,\n",
       " 4.842962525686893,\n",
       " 14.092063643281953,\n",
       " 3.6936373819687915]"
      ]
     },
     "execution_count": 34,
     "metadata": {},
     "output_type": "execute_result"
    }
   ],
   "source": [
    "ph4Info = parsePh4Content(moePh44Point)\n",
    "feats,radii = convertFeatureInfo(ph4Info)\n",
    "pcophore = Pharmacophore.Pharmacophore(feats)\n",
    "applyRadiiToBounds(radii,pcophore)\n",
    "ligand = Chem.MolFromSmiles(\"c1ccc(-c2n[nH]cc2-c2ccnc3ccccc23)nc1\")\n",
    "boundsMat = rdDistGeom.GetMoleculeBoundsMatrix(ligand)\n",
    "canMatch,allMatches = EmbedLib.MatchPharmacophoreToMol(ligand,featFactory,pcophore)\n",
    "if canMatch:\n",
    "  failed,boundsMatMatched,matched,matchDetails = EmbedLib.MatchPharmacophore(allMatches,boundsMat,\n",
    "                                                                             pcophore,useDownsampling=True)\n",
    "atomMatch = [list(x.GetAtomIds()) for x in matched]\n",
    "bm,embeddings,numFail = EmbedLib.EmbedPharmacophore(ligand,atomMatch,pcophore,count=10)\n",
    "TransformEmbeddings(pcophore,embeddings,atomMatch)"
   ]
  },
  {
   "cell_type": "markdown",
   "metadata": {},
   "source": [
    "Adding constraints into the embedding clearly worsens the SSD values for many alignments. Put differently, even though the distance matrix allows the ph4 to be fit when the actual matching in 3D space happens only few of the matches can be properly embedded onto the pharmacophore. Still, for example alignment 3 shows a low SSD value and the actual alignment looks good.\n",
    "\n",
    "![Alignment 3](images/4PointAlignment3.png)\n",
    "\n",
    "Note that in this match the H-Bond donor is matched to the pyrazol nitrogen without the hydrogen atom. This is due to the definitions in the BaseFeatures.fdef file and is due to the potential tautomerism of the pyrazole group. \n",
    "This is what we would get if we \"cheat\" the second donor atom away (note that the first full match of the pharmacophore feature mappings is used in the embedding). We could also achieve the same by changing the definitions of the BaseFeatures file but this is easier for now."
   ]
  },
  {
   "cell_type": "code",
   "execution_count": 35,
   "metadata": {
    "collapsed": false
   },
   "outputs": [
    {
     "name": "stdout",
     "output_type": "stream",
     "text": [
      "0 Acceptor SingleAtomAcceptor (5,)\n",
      "0 Acceptor SingleAtomAcceptor (12,)\n",
      "0 Acceptor SingleAtomAcceptor (19,)\n",
      "1 Acceptor SingleAtomAcceptor (5,)\n",
      "1 Acceptor SingleAtomAcceptor (12,)\n",
      "1 Acceptor SingleAtomAcceptor (19,)\n",
      "2 Donor SingleAtomDonor (5,)\n",
      "2 Donor SingleAtomDonor (6,)\n",
      "3 Aromatic Arom5 (4, 5, 6, 7, 8)\n",
      "3 Aromatic Arom6 (0, 1, 2, 3, 19, 20)\n",
      "3 Aromatic Arom6 (9, 10, 11, 12, 13, 18)\n",
      "3 Aromatic Arom6 (13, 14, 15, 16, 17, 18)\n"
     ]
    }
   ],
   "source": [
    "for (i,match) in enumerate(allMatches):\n",
    "  for f in match:\n",
    "    print(\"%d %s %s %s\"%(i, f.GetFamily(), f.GetType(), f.GetAtomIds()))"
   ]
  },
  {
   "cell_type": "code",
   "execution_count": 36,
   "metadata": {
    "collapsed": false
   },
   "outputs": [],
   "source": [
    "allMatches[2] = (allMatches[2][1],)"
   ]
  },
  {
   "cell_type": "code",
   "execution_count": 37,
   "metadata": {
    "collapsed": false
   },
   "outputs": [
    {
     "name": "stdout",
     "output_type": "stream",
     "text": [
      "0 Acceptor SingleAtomAcceptor (5,)\n",
      "0 Acceptor SingleAtomAcceptor (12,)\n",
      "0 Acceptor SingleAtomAcceptor (19,)\n",
      "1 Acceptor SingleAtomAcceptor (5,)\n",
      "1 Acceptor SingleAtomAcceptor (12,)\n",
      "1 Acceptor SingleAtomAcceptor (19,)\n",
      "2 Donor SingleAtomDonor (6,)\n",
      "3 Aromatic Arom5 (4, 5, 6, 7, 8)\n",
      "3 Aromatic Arom6 (0, 1, 2, 3, 19, 20)\n",
      "3 Aromatic Arom6 (9, 10, 11, 12, 13, 18)\n",
      "3 Aromatic Arom6 (13, 14, 15, 16, 17, 18)\n"
     ]
    }
   ],
   "source": [
    "for (i,match) in enumerate(allMatches):\n",
    "  for f in match:\n",
    "    print(\"%d %s %s %s\"%(i, f.GetFamily(), f.GetType(), f.GetAtomIds()))"
   ]
  },
  {
   "cell_type": "code",
   "execution_count": 38,
   "metadata": {
    "collapsed": false
   },
   "outputs": [
    {
     "data": {
      "text/plain": [
       "[9.449900893262338,\n",
       " 12.608272483126797,\n",
       " 8.076938522573315,\n",
       " 12.26674023114839,\n",
       " 8.467141387356321,\n",
       " 1.1167183122471869,\n",
       " 10.33837665309676,\n",
       " 2.8690516647350535,\n",
       " 13.664258269388334,\n",
       " 2.9510680148696338]"
      ]
     },
     "execution_count": 38,
     "metadata": {},
     "output_type": "execute_result"
    }
   ],
   "source": [
    "ligand = Chem.MolFromSmiles(\"c1ccc(-c2n[nH]cc2-c2ccnc3ccccc23)nc1\")\n",
    "boundsMat = rdDistGeom.GetMoleculeBoundsMatrix(ligand)\n",
    "failed,boundsMatMatched,matched,matchDetails = EmbedLib.MatchPharmacophore(allMatches,boundsMat,\n",
    "                                                                           pcophore,useDownsampling=True)\n",
    "atomMatch = [list(x.GetAtomIds()) for x in matched]\n",
    "bm,embeddings,numFail = EmbedLib.EmbedPharmacophore(ligand,atomMatch,pcophore,count=10)\n",
    "TransformEmbeddings(pcophore,embeddings,atomMatch)"
   ]
  },
  {
   "cell_type": "markdown",
   "metadata": {},
   "source": [
    "In this case, alignment 6 shows a good SSD value which is also reflected by a good alignment (this time with the correct Donor alignment).\n",
    "\n",
    "![Donor alignment](images/4PointAlignmentCheat6.png)"
   ]
  },
  {
   "cell_type": "markdown",
   "metadata": {},
   "source": [
    "# Caveat !!"
   ]
  },
  {
   "cell_type": "markdown",
   "metadata": {},
   "source": [
    "One of the next steps could be to completely \"pin down\" the ph4 so that the compound really fits the ph4. In order to do that, the backpocket pyridine would need to be brought into plane with the rest of the molecule. To achieve that, the aromatic ph4 feature needs to be included. \n",
    "This is where things can get tricky ... in this case the acceptor feature of the pyridine ring system is also part of the aromatic system which means that during the bounds smoothing process an interference between the two will hinder a positive matching. "
   ]
  },
  {
   "cell_type": "code",
   "execution_count": 39,
   "metadata": {
    "collapsed": true
   },
   "outputs": [],
   "source": [
    "moePh45Point = \"\"\"#moe:ph4que 2014.09\n",
    "#pharmacophore 7 tag t value *\n",
    "scheme t Unified matchsize i 0 use_Hs i 1 abspos i 0 title t $ useRval i\n",
    "0 comment s $\n",
    "#feature 5 expr tt color ix x r y r z r r r ebits ix gbits ix m ix\n",
    "Acc df2f2 3.877 7.014 1.448 1 0 400 a64cff \n",
    "Acc df2f2 7.22 11.077 5.625 1 0 400 a64cff \n",
    "Don f20df2 4.778 8.432 7.805 1 0 400 a64cff \n",
    "Aro ff8000 1.56433333333334 7.06399999999999 3.135 1 0 400 a64cff \n",
    "Aro ff8000 6.68983333333333 11.6213333333333 4.498 1 0 400 a64cff\n",
    "#endpharmacophore\"\"\""
   ]
  },
  {
   "cell_type": "code",
   "execution_count": 40,
   "metadata": {
    "collapsed": false
   },
   "outputs": [],
   "source": [
    "ph4Info = parsePh4Content(moePh45Point)\n",
    "feats,radii = convertFeatureInfo(ph4Info)\n",
    "pcophore = Pharmacophore.Pharmacophore(feats)\n",
    "applyRadiiToBounds(radii,pcophore)\n",
    "ligand = Chem.MolFromSmiles(\"c1ccc(-c2n[nH]cc2-c2ccnc3ccccc23)nc1\")\n",
    "boundsMat = rdDistGeom.GetMoleculeBoundsMatrix(ligand)\n",
    "canMatch,allMatches = EmbedLib.MatchPharmacophoreToMol(ligand,featFactory,pcophore)\n",
    "if canMatch:\n",
    "  failed,boundsMatMatched,matched,matchDetails = EmbedLib.MatchPharmacophore(allMatches,boundsMat,\n",
    "                                                                             pcophore,useDownsampling=True)"
   ]
  },
  {
   "cell_type": "code",
   "execution_count": 41,
   "metadata": {
    "collapsed": false
   },
   "outputs": [
    {
     "data": {
      "text/plain": [
       "1"
      ]
     },
     "execution_count": 41,
     "metadata": {},
     "output_type": "execute_result"
    }
   ],
   "source": [
    "failed"
   ]
  },
  {
   "cell_type": "markdown",
   "metadata": {},
   "source": [
    "__When setting up ph4 queries, make sure that multi-atom pharmacophoric features do not include other pharmacophoric features!__ "
   ]
  },
  {
   "cell_type": "markdown",
   "metadata": {},
   "source": [
    "# Running over multiple molecules"
   ]
  },
  {
   "cell_type": "markdown",
   "metadata": {},
   "source": [
    "Now that we have know how to align the co-crystallised ligand back to its pharmacophore query we can run a couple of molecules that should fit into the pocket of that target enzyme (here Ren et al. doi:10.1016/j.ejmech.2009.07.008). We use the first 5 molecules from the list of actives and use the 4-point pharmacophore used above but with a radius of 1.0."
   ]
  },
  {
   "cell_type": "code",
   "execution_count": 42,
   "metadata": {
    "collapsed": true
   },
   "outputs": [],
   "source": [
    "moePh44Point = \"\"\"#moe:ph4que 2014.09\n",
    "#pharmacophore 7 tag t value *\n",
    "scheme t Unified matchsize i 0 use_Hs i 1 abspos i 0 title t $ useRval i 0 comment s $\n",
    "#feature 4 expr tt color ix x r y r z r r r ebits ix gbits ix m ix\n",
    "Acc df2f2 3.877 7.014 1.448 1.0 0 400 a64cff \n",
    "Acc df2f2 7.22 11.077 5.625 1.0 0 400 a64cff \n",
    "Don f20df2 4.778 8.432 7.805 1.0 0 400 a64cff \n",
    "Aro ff8000 1.56433333333334 7.06399999999999 3.135 1.0 0 400 a64cff\n",
    "#endpharmacophore\"\"\""
   ]
  },
  {
   "cell_type": "code",
   "execution_count": 43,
   "metadata": {
    "collapsed": false
   },
   "outputs": [
    {
     "name": "stdout",
     "output_type": "stream",
     "text": [
      "0\n",
      "1\n",
      "2\n",
      "3\n",
      "Couldn't embed molecule 3\n",
      "4\n"
     ]
    }
   ],
   "source": [
    "from operator import itemgetter\n",
    "ph4Info = parsePh4Content(moePh44Point)\n",
    "feats,radii = convertFeatureInfo(ph4Info)\n",
    "pcophore = Pharmacophore.Pharmacophore(feats)\n",
    "applyRadiiToBounds(radii,pcophore)\n",
    "molSmiles = ['Cc1cccc(c2n[nH]cc2c3ccc4ncccc4n3)n1','Cc1cccnc1c2nc(N)sc2c3nc4cccnc4cc3',\n",
    "             'Cc1cccc(c2[nH]c(CNc5cc(C(=O)N)ccc5)nc2c3ccc4nccnc4c3)n1','Clc1cccc(c2nc(N)sc2c3ccc4ncccc4n3)c1',\n",
    "                 'n1ccccc1c2nn3CCCc3c2c4ccnc5cc(NC(=O)NCCN(C)C)ccc45']\n",
    "mols = [Chem.MolFromSmiles(smi) for smi in molSmiles]\n",
    "res = []\n",
    "for i,mol in enumerate(mols):\n",
    "  print(i)\n",
    "  boundsMat = rdDistGeom.GetMoleculeBoundsMatrix(mol)\n",
    "  canMatch,allMatches = EmbedLib.MatchPharmacophoreToMol(mol,featFactory,pcophore)\n",
    "  if canMatch:\n",
    "    failed,boundsMatMatched,matched,matchDetails = EmbedLib.MatchPharmacophore(allMatches,boundsMat,\n",
    "                                                                               pcophore,useDownsampling=True)\n",
    "    if failed:\n",
    "      print(\"Couldn't embed molecule %d\"%i)\n",
    "      continue\n",
    "  else:\n",
    "    print(\"Couldn't match molecule %d\"%i)\n",
    "    continue\n",
    "  atomMatch = [list(x.GetAtomIds()) for x in matched]\n",
    "  try:\n",
    "    bm,embeddings,numFail = EmbedLib.EmbedPharmacophore(mol,atomMatch,pcophore,count=10)\n",
    "  except ValueError:\n",
    "    print (\"Bounds smoothing failed for molecule %d\"%i)\n",
    "    continue\n",
    "  SSDs = TransformEmbeddings(pcophore,embeddings,atomMatch) \n",
    "  bestFitIndex = min(enumerate(SSDs), key=itemgetter(1))[0] \n",
    "  res.append((SSDs[bestFitIndex],embeddings[bestFitIndex]))"
   ]
  },
  {
   "cell_type": "code",
   "execution_count": 44,
   "metadata": {
    "collapsed": false
   },
   "outputs": [
    {
     "data": {
      "text/plain": [
       "[(4.054850312203385, <rdkit.Chem.rdchem.Mol at 0x7f9c02afe848>),\n",
       " (7.526851737029688, <rdkit.Chem.rdchem.Mol at 0x7f9c02afe490>),\n",
       " (3.4272400322304577, <rdkit.Chem.rdchem.Mol at 0x7f9c02afeae8>),\n",
       " (6.532335814958643, <rdkit.Chem.rdchem.Mol at 0x7f9c02afe458>)]"
      ]
     },
     "execution_count": 44,
     "metadata": {},
     "output_type": "execute_result"
    }
   ],
   "source": [
    "res"
   ]
  },
  {
   "cell_type": "markdown",
   "metadata": {},
   "source": [
    "As one can see based on RMSD values, the overall alignment to the pharmacophore is not very good. This is also reflected when looking at how the molecules are aligned:\n",
    "\n",
    "![multiMol alignment](images/4PointAlignmentAll.png)\n",
    "\n",
    "Of course - this doesn't mean that the method itself is not good - it just shows that the molecules are not fitting the pharmacophore. The above example is merely there to show how to run the method on multiples molecules.\n",
    "In addition it shows that one can use the basic alignment values in order to quickly remove molecules that do not properly fit the pharmacophore. However, be cautious since the conformations of the aligned molecules are not really good - but that's for another tutorial ... "
   ]
  },
  {
   "cell_type": "code",
   "execution_count": null,
   "metadata": {
    "collapsed": true
   },
   "outputs": [],
   "source": []
  }
 ],
 "metadata": {
  "anaconda-cloud": {},
  "hide_input": false,
  "kernelspec": {
   "display_name": "Python [conda root]",
   "language": "python",
   "name": "conda-root-py"
  },
  "language_info": {
   "codemirror_mode": {
    "name": "ipython",
    "version": 3
   },
   "file_extension": ".py",
   "mimetype": "text/x-python",
   "name": "python",
   "nbconvert_exporter": "python",
   "pygments_lexer": "ipython3",
   "version": "3.5.1"
  }
 },
 "nbformat": 4,
 "nbformat_minor": 0
}

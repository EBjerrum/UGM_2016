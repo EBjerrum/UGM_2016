{
 "cells": [
  {
   "cell_type": "code",
   "execution_count": 1,
   "metadata": {
    "collapsed": false,
    "slideshow": {
     "slide_type": "skip"
    }
   },
   "outputs": [
    {
     "name": "stderr",
     "output_type": "stream",
     "text": [
      "/Library/Python/2.7/site-packages/IPython/html.py:14: ShimWarning: The `IPython.html` package has been deprecated. You should import from `notebook` instead. `IPython.html.widgets` has moved to `ipywidgets`.\n",
      "  \"`IPython.html.widgets` has moved to `ipywidgets`.\", ShimWarning)\n"
     ]
    }
   ],
   "source": [
    "import gzip\n",
    "from rdkit import Chem\n",
    "from rdkit.Chem import Draw,AllChem\n",
    "from rdkit.Chem.Draw import IPythonConsole\n",
    "from IPython.display import Image\n"
   ]
  },
  {
   "cell_type": "markdown",
   "metadata": {
    "slideshow": {
     "slide_type": "slide"
    }
   },
   "source": [
    "<table style=\"border:none\">\n",
    "<tr style=\"border:none\">\n",
    "<td colspan=2 style=\"border:none\">\n",
    "</td>\n",
    "</tr>\n",
    "<tr style=\"border:none\">\n",
    "<td colspan=2 style=\"border:none\">\n",
    "<h1>RDKit: State of the toolkit (2016 UGM edition)</h1>\n",
    "</td>\n",
    "</tr>\n",
    "<tr style=\"border:none\">\n",
    "<td style=\"border:none\">\n",
    "Greg Landrum, Ph.D.<br />\n",
    "T5 Informatics, KNIME.com <br />\n",
    "Basel, Switzerland<br />\n",
    "<img style=\"align:left\" align=\"left\" src=\"images/T5.shaded.132.png\" alt=\"T5 logo\" />\n",
    "</td>\n",
    "<td style=\"border:none\">\n",
    "<img src=\"images/logo.lrg.png\" alt=\"RDKit logo\" />\n",
    "</td>\n",
    "</tr></table>"
   ]
  },
  {
   "cell_type": "markdown",
   "metadata": {
    "slideshow": {
     "slide_type": "slide"
    }
   },
   "source": [
    "# An overview of the RDKit\n",
    "\n"
   ]
  },
  {
   "cell_type": "markdown",
   "metadata": {
    "slideshow": {
     "slide_type": "subslide"
    }
   },
   "source": [
    "## Open-source toolkit for cheminformatics\n",
    "- Business-friendly BSD license\n",
    "- Core data structures and algorithms in C++\n",
    "- Python (2.x and 3.x) wrapper generated using Boost.Python\n",
    "- Java and C\\# wrappers generated with SWIG\n",
    "- 2D and 3D molecular operations\n",
    "- Descriptor generation for machine learning\n",
    "- Molecular database cartridge for PostgreSQL\n",
    "- Cheminformatics nodes for KNIME (distributed from the KNIME community site: http://tech.knime.org/community/rdkit)\n"
   ]
  },
  {
   "cell_type": "markdown",
   "metadata": {
    "slideshow": {
     "slide_type": "subslide"
    }
   },
   "source": [
    "## Ecosystem\n",
    "\n",
    "![RDKit ecosystem](images/ecodesystem.png)\n",
    "\n",
    "*Exact same algorithms/implementations accessible from many different endpoints*"
   ]
  },
  {
   "cell_type": "markdown",
   "metadata": {
    "slideshow": {
     "slide_type": "subslide"
    }
   },
   "source": [
    "## Operational\n",
    "- http://www.rdkit.org\n",
    "- Supports Mac/Windows/Linux\n",
    "- Releases every 6 months\n",
    "- Web presence:\n",
    "    - Homepage: http://www.rdkit.org\n",
    "      Documentation, links\n",
    "    - Github (https://github.com/rdkit)\n",
    "      Downloads, bug tracker, git repository\n",
    "    - Sourceforge (http://sourceforge.net/projects/rdkit)\n",
    "      Mailing lists\n",
    "    - Blog (https://rdkit.blogspot.com)\n",
    "      Tips, tricks, random stuff\n",
    "    - Tutorials (https://github.com/rdkit/rdkit-tutorials)\n",
    "      Jupyter-based tutorials for using the RDKit\n",
    "    - KNIME integration (https://github.com/rdkit/knime-rdkit)\n",
    "      RDKit nodes for KNIME\n",
    "- Mailing lists at https://sourceforge.net/p/rdkit/mailman/, searchable archives available for [rdkit-discuss](http://www.mail-archive.com/rdkit-discuss@lists.sourceforge.net/) and [rdkit-devel](http://www.mail-archive.com/rdkit-devel@lists.sourceforge.net/)\n",
    "- Social media:\n",
    "    - Twitter: @RDKit_org\n",
    "    - LinkedIn: https://www.linkedin.com/groups/8192558\n",
    "    - Google+: https://plus.google.com/u/0/116996224395614252219\n",
    "    - Slack: https://rdkit.slack.com (invite required, contact Greg)"
   ]
  },
  {
   "cell_type": "markdown",
   "metadata": {
    "slideshow": {
     "slide_type": "subslide"
    }
   },
   "source": [
    "## History and Milestones:\n",
    "- 2000-2006: initial development work at Rational Discovery\n",
    "- 2006: code open sourced and released on sourceforge.net\n",
    "- 2007: First NIBR contribution (chemical reaction handling); Noel discovers the RDKit (=first rdkit-discuss post?)\n",
    "- 2008: first POC of Java wrapper; Mac support added; SLN and Mol2 parsers; \n",
    "- 2009: Morgan fingerprints; switch to cmake; switch to VF2 for SSS\n",
    "- 2010: PostgreSQL cartridge; First iteration of the KNIME nodes; $RDBASE/Contrib appears; SaltRemover and FunctionalGroups code\n",
    "- 2011: New Java wrappers; more functionality moved to C++; InChI support; Avalontools integration\n",
    "- 2012: First UGM; Speed improvements; MCS implementation; IPython integration; “RDKit Cookbook” appears\n",
    "- 2013: Move to github; Pandas integration; MMFF and Open3DAlign support; PDB support; rdkit blog started\n",
    "- 2014: python3 support; conda integration; experimental lucene integration; MCS implementation in C++\n",
    "- 2015: new drawing code; improved canonicalization algorithm; improved 3D coordinate generation; reduced memory usage\n",
    "- 2016: Regular patch releases; easier builds; performance improvements; KNIME nodes move to Github "
   ]
  },
  {
   "cell_type": "markdown",
   "metadata": {
    "slideshow": {
     "slide_type": "subslide"
    }
   },
   "source": [
    "## Functionality Overview: Basics\n",
    "- Input/Output: SMILES/SMARTS, SDF, TDT, SLN [1](#footnote1), Corina mol2 [1](#footnote1), PDB, sequence notation, FASTA (peptides only), HELM (peptides only)\n",
    "- Substructure searching\n",
    "- Canonical SMILES\n",
    "- Chirality support (i.e. R/S or E/Z labeling)\n",
    "- Chemical transformations (e.g. remove matching substructures)\n",
    "- Chemical reactions\n",
    "- Molecular serialization (e.g. mol \\<-\\> text)\n",
    "- 2D depiction, including constrained depiction\n",
    "- Fingerprinting: Daylight-like, atom pairs, topological torsions, Morgan algorithm, “MACCS keys”, extended reduced graphs, etc.\n",
    "- Similarity/diversity picking\n",
    "- Gasteiger-Marsili charges\n",
    "- Bemis and Murcko scaffold determination\n",
    "- Salt stripping\n",
    "- Functional-group filters"
   ]
  },
  {
   "cell_type": "markdown",
   "metadata": {
    "slideshow": {
     "slide_type": "subslide"
    }
   },
   "source": [
    "## Functionality Overview: 2D\n",
    "- 2D pharmacophores [1](#footnote1)\n",
    "- Hierarchical subgraph/fragment analysis\n",
    "- RECAP and BRICS implementations\n",
    "- Multi-molecule maximum common substructure [2](#footnote2)\n",
    "- Enumeration of molecular resonance structures\n",
    "- Molecular descriptor library:\n",
    "  - Topological (κ3, Balaban J, etc.)\n",
    "  - Compositional (Number of Rings, Number of Aromatic Heterocycles, etc.)\n",
    "  - Electrotopological state (Estate)\n",
    "  - clogP, MR (Wildman and Crippen approach)\n",
    "  - “MOE like” VSA descriptors\n",
    "  - MQN [6](#footnote6)\n",
    "- Similarity Maps [7](#footnote7)\n",
    "- Machine Learning:\n",
    "  - Clustering (hierarchical, Butina)\n",
    "  - Information theory (Shannon entropy, information gain, etc.)\n",
    "- Tight integration with the [Jupyter](http://jupyter.org) notebook (formerly the IPython notebook) and [Pandas](http://pandas.pydata.org/).\n"
   ]
  },
  {
   "cell_type": "markdown",
   "metadata": {
    "slideshow": {
     "slide_type": "subslide"
    }
   },
   "source": [
    "## Functionality Overview: 3D\n",
    "- 2D-\\>3D conversion/conformational analysis via distance geometry \n",
    "- UFF and MMFF94/MMFF94S implementations for cleaning up structures\n",
    "- Pharmacophore embedding (generate a pose of a molecule that matches a 3D pharmacophore) [1](#footnote1)\n",
    "- Feature maps\n",
    "- Shape-based similarity\n",
    "- RMSD-based molecule-molecule alignment\n",
    "- Shape-based alignment (subshape alignment [3](#footnote3)) [1](#footnote1)\n",
    "- Unsupervised molecule-molecule alignment using the Open3DAlign algorithm [4](#footnote4)\n",
    "- Integration with PyMOL for 3D visualization\n",
    "- Molecular descriptor library:\n",
    "  - PMI, NPR, PBF, etc.\n",
    "  - Feature-map vectors [5](#footnote5)\n",
    "- Torsion Fingerprint Differences for comparing conformations [8](#footnote8)\n"
   ]
  },
  {
   "cell_type": "markdown",
   "metadata": {
    "slideshow": {
     "slide_type": "subslide"
    }
   },
   "source": [
    "## Documentation\n",
    "[Overview](http://rdkit.readthedocs.org/en/latest/):\n",
    "\n",
    "![docs overview](images/docs_overview.png)\n",
    "\n",
    "Generated with Sphinx (standard python documentation tool)"
   ]
  },
  {
   "cell_type": "markdown",
   "metadata": {
    "slideshow": {
     "slide_type": "subslide"
    }
   },
   "source": [
    "## Documentation\n",
    "[Sample](http://rdkit.readthedocs.org/en/latest/GettingStartedInPython.html#reading-single-molecules):\n",
    "\n",
    "![doc zoom](images/docs_zoom.png)\n",
    "\n",
    "All Python code samples are *tested* to protect against doc-rot.\n"
   ]
  },
  {
   "cell_type": "markdown",
   "metadata": {
    "slideshow": {
     "slide_type": "subslide"
    }
   },
   "source": [
    "## Tutorials\n",
    "\n",
    "[Github repo](https://github.com/rdkit/rdkit-tutorials)\n",
    "![tutorial](images/tutorial_example.png)\n",
    "\n",
    "All Python code samples are *tested* to protect against doc-rot.\n"
   ]
  },
  {
   "cell_type": "markdown",
   "metadata": {
    "slideshow": {
     "slide_type": "subslide"
    }
   },
   "source": [
    "## Footnotes\n",
    "<a name=\"footnote1\">1</a>: These implementations are functional but are not necessarily the best, fastest, or most complete.\n",
    "\n",
    "<a name=\"footnote2\">2</a>: Originally contributed by Andrew Dalke\n",
    "\n",
    "<a name=\"footnote3\">3</a>: Putta, S., Eksterowicz, J., Lemmen, C. & Stanton, R. \"A Novel Subshape Molecular Descriptor\" *Journal of Chemical Information and Computer Sciences* **43:1623–35** (2003).\n",
    "\n",
    "<a name=\"footnote4\">4</a>: Tosco, P., Balle, T. & Shiri, F. \"Open3DALIGN: an open-source software aimed at unsupervised ligand alignment.\" *J Comput Aided Mol Des* **25:777–83** (2011).\n",
    "\n",
    "<a name=\"footnote5\">5</a>: Landrum, G., Penzotti, J. & Putta, S. \"Feature-map vectors: a new class of informative descriptors for computational drug discovery\" *Journal of Computer-Aided Molecular Design* **20:751–62** (2006).\n",
    "\n",
    "<a name=\"footnote6\">6</a>: Nguyen, K. T., Blum, L. C., van Deursen, R. & Reymond, J.-L. \"Classification of Organic Molecules by Molecular Quantum Numbers.\" *ChemMedChem* **4:1803–5** (2009).\n",
    "\n",
    "<a name=\"footnote7\">7</a>: Riniker, S. & Landrum, G. A. \"Similarity maps - a visualization strategy for molecular fingerprints and machine-learning methods.\" *Journal of Cheminformatics* **5:43** (2013).\n",
    "\n",
    "<a name=\"footnote8\">8</a>: Schulz-Gasch, T., Schärfer, C., Guba, W. & Rarey, M. \"TFD: Torsion Fingerprints As a New Measure To Compare Small Molecule Conformations.\" *J. Chem. Inf. Model.* **52:1499–1512** (2012).\n",
    "\n",
    "<a name=\"footnote9\">9</a>: Riniker, S. & Landrum, G. A. \"Better informed distance geometry: Using what we know to improve conformation generation.\" *J. Chem. Inf. Model.* **55:2562–74** (2015). \n"
   ]
  },
  {
   "cell_type": "markdown",
   "metadata": {
    "slideshow": {
     "slide_type": "slide"
    }
   },
   "source": [
    "# Sustainability\n",
    "\n",
    "Solving the bus problem...\n",
    "\n",
    "- This clearly isn’t just a hobby project any more\n",
    "- Used internally in NIBR and other companies in multiple production systems\n",
    "- Contributions (features, bug fixes, etc) coming in from the community, including from other companies\n",
    "- I’m no longer the only one answering questions on the mailing list\n",
    "- Part of other open-source projects\n"
   ]
  },
  {
   "cell_type": "markdown",
   "metadata": {
    "slideshow": {
     "slide_type": "slide"
    }
   },
   "source": [
    "# Community\n",
    "\n",
    "The core of any open-source project\n"
   ]
  },
  {
   "cell_type": "markdown",
   "metadata": {
    "slideshow": {
     "slide_type": "subslide"
    }
   },
   "source": [
    "## Who's using it?\n",
    "\n",
    "Hard to say with any certainty\n",
    "\n",
    "- Active contributors to the mailing list from:\n",
    "  - Big pharma\n",
    "  - Small pharma/biotech\n",
    "  - Software/Services\n",
    "  - Academia\n",
    "- All of the last three UGMs at capacity with 40+ attendees\n",
    "- Contributions coming from the community:\n",
    "  - bug reports  \n",
    "  - wiki pages\n",
    "  - code and documentation patches\n",
    "  - changes to the build system\n",
    "  - active use in other systems.\n",
    "- Community contributions for packaging:\n",
    "  - rpms/debs for Fedora/Debian linux\n",
    "  - homebrew recipe for MacOS\n",
    "  - conda packages\n"
   ]
  },
  {
   "cell_type": "markdown",
   "metadata": {
    "slideshow": {
     "slide_type": "subslide"
    }
   },
   "source": [
    "## Contrib dir\n",
    "\n",
    "The Contrib directory, part of the standard RDKit distribution, includes code that has been contributed by members of the community.\n",
    "\n",
    "### LEF: Local Environment Fingerprints\n",
    "\n",
    "Contains python source code from the publications:\n",
    "\n",
    "-   A. Vulpetti, U. Hommel, G. Landrum, R. Lewis and C. Dalvit, \"Design and NMR-based screening of LEF, a library of chemical fragments with different Local Environment of Fluorine\" *J. Am. Chem. Soc.* **131** (2009) 12949-12959. http://dx.doi.org/10.1021/ja905207t\n",
    "-   Vulpetti, G. Landrum, S. Ruedisser, P. Erbel and C. Dalvit, \"19F NMR Chemical Shift Prediction with Fluorine Fingerprint Descriptor\" *J. of Fluorine Chemistry* **131** (2010) 570-577. http://dx.doi.org/10.1016/j.jfluchem.2009.12.024\n",
    "\n",
    "Contribution from Anna Vulpetti\n",
    "\n",
    "### M\\_Kossner\n",
    "\n",
    "Contains a set of pharmacophoric feature definitions as well as code for finding molecular frameworks.\n",
    "\n",
    "Contribution from Markus Kossner\n",
    "\n",
    "### PBF: Plane of best fit\n",
    "\n",
    "Contains C++ source code and sample data from the publication:\n",
    "\n",
    "Firth, N. Brown, and J. Blagg, \"Plane of Best Fit: A Novel Method to Characterize the Three-Dimensionality of Molecules\" *Journal of Chemical Information and Modeling* **52** 2516-2525 (2012). http://pubs.acs.org/doi/abs/10.1021/ci300293f\n",
    "\n",
    "Contribution from Nicholas Firth\n",
    "\n",
    "### mmpa: Matched molecular pairs\n",
    "\n",
    "Python source and sample data for an implementation of the matched-molecular pair algorithm described in the publication:\n",
    "\n",
    "Hussain, J., & Rea, C. \"Computationally efficient algorithm to identify matched molecular pairs (MMPs) in large data sets.\" *Journal of chemical information and modeling* **50** 339-348 (2010). http://dx.doi.org/10.1021/ci900450m\n",
    "\n",
    "Includes a fragment indexing algorithm from the publication:\n",
    "\n",
    "Wagener, M., & Lommerse, J. P. \"The quest for bioisosteric replacements.\" *Journal of chemical information and modeling* **46** 677-685 (2006).\n",
    "\n",
    "Contribution from Jameed Hussain.\n",
    "\n",
    "### SA\\_Score: Synthetic assessibility score\n",
    "\n",
    "Python source for an implementation of the SA score algorithm described in the publication:\n",
    "\n",
    "Ertl, P. and Schuffenhauer A. \"Estimation of Synthetic Accessibility Score of Drug-like Molecules based on Molecular Complexity and Fragment Contributions\" *Journal of Cheminformatics* **1:8** (2009)\n",
    "\n",
    "Contribution from Peter Ertl\n",
    "\n",
    "### fraggle: A fragment-based molecular similarity algorithm\n",
    "\n",
    "Python source for an implementation of the fraggle similarity algorithm developed at GSK and described in this RDKit UGM presentation: https://github.com/rdkit/UGM_2013/blob/master/Presentations/Hussain.Fraggle.pdf\n",
    "\n",
    "Contribution from Jameed Hussain\n",
    "\n",
    "### pzc: Tools for building and validating classifiers\n",
    "\n",
    "Contribution from Paul Czodrowski\n",
    "\n",
    "### ConformerParser: parser for Amber trajectory files\n",
    "\n",
    "Contribution from Sereina Riniker\n",
    "\n",
    "### AtomAtomSimilarity: atom-atom-path method for fragment similarity\n",
    "\n",
    "Python source for an implementation of the Atom-Atom-Path similarity method for fragments described in the publication:\n",
    "\n",
    "Gobbi, A., Giannetti, A. M., Chen, H. & Lee, M.-L. \"Atom-Atom-Path similarity and Sphere Exclusion clustering: tools for prioritizing fragment hits.\" *J. Cheminformatics* **7:11** (2015). http://dx.doi.org10.1186/s13321-015-0056-8\n",
    "\n",
    "Contribution from Richard Hall"
   ]
  },
  {
   "cell_type": "markdown",
   "metadata": {
    "slideshow": {
     "slide_type": "subslide"
    }
   },
   "source": [
    "## Integration into other projects\n",
    "\n",
    "- [ChEMBL Beaker](https://github.com/mnowotka/chembl_beaker) - standalone web server wrapper for RDKit and OSRA\n",
    "- [myChEMBL](https://github.com/chembl/mychembl) ([blog post](http://chembl.blogspot.de/2013/10/chembl-virtual-machine-aka-mychembl.html), [paper](http://bioinformatics.oxfordjournals.org/content/early/2013/11/20/bioinformatics.btt666)) - A virtual machine implementation of open data and cheminformatics tools\n",
    "- [ZINC](http://zinc15.docking.org) - Free database of commercially-available compounds for virtual screening\n",
    "- [Coot](https://www2.mrc-lmb.cam.ac.uk/personal/pemsley/coot/) - software for macromolecular model building, model completion and validation\n",
    "- [sdf_viewer.py](https://github.com/apahl/sdf_viewer) - an interactive SDF viewer\n",
    "- [sdf2ppt](https://github.com/dkuhn/sdf2ppt) - Reads an SDFile and displays molecules as image grid in powerpoint/openoffice presentation.\n",
    "- [MolGears](https://github.com/admed/molgears) - A cheminformatics tool for bioactive molecules\n",
    "- [PYPL](http://www.biochemfusion.com/downloads/#OracleUtilities) - Simple cartridge that lets you call Python scripts from Oracle PL/SQL.\n",
    "- [shape-it-rdkit](https://github.com/jandom/shape-it-rdkit) - Gaussian molecular overlap code shape-it (from silicos it) ported to RDKit backend\n",
    "- [WONKA](http://wonka.sgc.ox.ac.uk/WONKA/) - Tool for analysis and interrogation of protein-ligand crystal structures\n",
    "- [OOMMPPAA](http://oommppaa.sgc.ox.ac.uk/OOMMPPAA/) - Tool for directed synthesis and data analysis based on protein-ligand crystal structures\n",
    "- [OCEAN](https://github.com/rdkit/OCEAN) - web-tool for target-prediction of chemical structures which uses ChEMBL as datasource\n",
    "- [chemfp](http://chemfp.com)\n",
    "- [rdkit_ipynb_tools](https://github.com/apahl/rdkit_ipynb_tools) - RDKit Tools for the IPython Notebook\n",
    "- [chemicalite](https://github.com/rvianello/chemicalite) - SQLite integration for the RDKit\n",
    "- [django-rdkit](https://github.com/rdkit/django-rdkit) - Django integration for the RDKit\n",
    "- [Vernalis KNIME nodes](https://tech.knime.org/book/vernalis-nodes-for-knime-trusted-extension)\n",
    "- [Erlwood KNIME nodes](https://tech.knime.org/community/erlwood)\n",
    "- [AZOrange](https://github.com/AZcompTox/AZOrange)\n"
   ]
  },
  {
   "cell_type": "markdown",
   "metadata": {
    "slideshow": {
     "slide_type": "slide"
    }
   },
   "source": [
    "<table style=\"border:none\">\n",
    "<tr style=\"border:none\">\n",
    "<td style=\"border:none; vertical-align:text-top\">\n",
    "<h1>Support</h1>\n",
    "Another critical piece for any software project, open-source or otherwise.\n",
    "</td>\n",
    "<td rowspan=2 style=\"border:none; width:50%\">\n",
    "</td>\n",
    "</tr>\n",
    "<tr style=\"border:none\">\n",
    "<td style=\"border:none\">\n",
    "<h2>Options:</h2>\n",
    "<ul>\n",
    "<li> RDKit mailing list</li>\n",
    "<li> Github </li>\n",
    "<li> RDKit slack channel</li>\n",
    "<li> Commercial (via T5 Informatics)</li>\n",
    "</ul>\n",
    "</td>\n",
    "</tr></table>"
   ]
  },
  {
   "cell_type": "markdown",
   "metadata": {
    "slideshow": {
     "slide_type": "subslide"
    }
   },
   "source": [
    "## Patch Releases\n",
    "\n",
    "- Starting with the 2016_03 version of the RDKit, we've been doing patch releases: about once a month we release a new version with just bug fixes.\n",
    "- The changes are documented and these should always be safe to install.\n",
    "- Some more thoughts on this appeared on the [T5 Informatics Blog](https://medium.com/@greg.landrum_t5/a-new-ish-rdkit-release-model-3efa17ff54b7#.8agtoocol)\n",
    "\n",
    "Here's an example of the release notes from a [patch release](https://github.com/rdkit/rdkit/releases/tag/Release_2016_03_5):\n",
    "```\n",
    "  # Release_2016.03.5\n",
    "  (Changes relative to Release_2016.03.4)\n",
    "\n",
    "  ## Acknowledgements:\n",
    "  Piotr Dabrowski, Markus Metz, Stephen Roughley, Riccardo Vianello\n",
    "\n",
    "  ## Bug Fixes:\n",
    "    - GetSSSR interrupts by segmentation fault\n",
    "    (github issue #1023 from PiotrDabr)\n",
    "    - typos in MMPA hash code\n",
    "    (github issue #1044 from greglandrum)\n",
    "    - Bond::BondDir::EITHERDOUBLE not exposed to python\n",
    "    (github issue #1051 from greglandrum)\n",
    "    - Fix leak with renumberAtoms() in the SWIG wrappers\n",
    "    (github pull #1064 from greglandrum)\n",
    "    - computeInitialCoords() should call the SSSR code before it calls assignStereochemistry()\n",
    "    (github issue #1073 from greglandrum)\n",
    "```\n",
    "\n"
   ]
  },
  {
   "cell_type": "markdown",
   "metadata": {
    "slideshow": {
     "slide_type": "subslide"
    }
   },
   "source": [
    "<table style=\"border:none\">\n",
    "<tr style=\"border:none\">\n",
    "<td style=\"border:none; vertical-align:text-top\">\n",
    "<h2>Long-term support releases</h2>\n",
    "<ul>\n",
    "<li>The idea here is borrowed from Ubuntu Linux and some other open-source software packages: we will occasionally designate an RDKit release as a \"long-term support release\" (or \"long-term release\", the terminology isn't quite settled). We'll create patch releases with bug fixes against these releases for a fixed period of time, likely two years.\n",
    "<li>Some more thoughts on this appeared on the <a href=\"https://medium.com/@greg.landrum_t5/a-new-ish-rdkit-release-model-3efa17ff54b7#.8agtoocol\">T5 Informatics Blog</a></li>\n",
    "</ul>\n",
    "</td>\n",
    "<td style=\"border:none; width:30%\">\n",
    "</td>\n",
    "</tr>\n",
    "</table>\n"
   ]
  },
  {
   "cell_type": "markdown",
   "metadata": {
    "slideshow": {
     "slide_type": "slide"
    }
   },
   "source": [
    "# The Future\n",
    "\n",
    "Future work tends to be determined by what's needed for active projects or requests that come out of the community. So there's not really a roadmap.\n",
    "\n",
    "But sometimes's it's obvious. Here's a set of some things are already on the \"ToDo\" list or that are just being thought about."
   ]
  },
  {
   "cell_type": "markdown",
   "metadata": {
    "slideshow": {
     "slide_type": "subslide"
    }
   },
   "source": [
    "## Some larger scale backend changes\n",
    "\n",
    "### Moving to modern C++. \n",
    "\n",
    "The goal is to modernize the C++ codebase and allow the developers to work with more up-to-date tools.\n",
    "This may also have a positive impact on performance/stability. \n",
    "\n",
    "We will start this after the \"Q3\" 2016 release. Here's some [more detail](https://medium.com/@greg.landrum_t5/the-rdkit-and-modern-c-48206b966218).\n",
    "\n",
    "### Starting to make backwards incompatible changes.\n",
    "\n",
    "The goal is to make the RDKit API simpler to use and understand and clean up some of the \"less than optimal\" decisions made early in the development of the toolkit.\n",
    "\n",
    "Some specific planned changes:\n",
    "- Dealing with the explicit/implicit hydrogen mess\n",
    "- Improvements to the representation of stereochemistry\n",
    "\n",
    "We will put a process in place for doing this, but not necessarily start, before the Q1 2017 release. \n",
    "Here's some [more detail](https://medium.com/@greg.landrum_t5/breaking-with-the-past-making-backwards-incompatible-changes-in-the-rdkit-68e006579663)."
   ]
  },
  {
   "cell_type": "markdown",
   "metadata": {
    "slideshow": {
     "slide_type": "subslide"
    }
   },
   "source": [
    "## Some upcoming features/improvements\n",
    "\n",
    "- Get the structure checker to v1.0\n",
    "- Get the enumeration toolkit to v1.0\n",
    "- More 3D descriptors\n",
    "- Improved 3D integration in the jupyter notebook\n",
    "- More KNIME nodes!\n"
   ]
  },
  {
   "cell_type": "markdown",
   "metadata": {
    "slideshow": {
     "slide_type": "subslide"
    }
   },
   "source": [
    "# Still lots of other stuff to do though..."
   ]
  },
  {
   "cell_type": "markdown",
   "metadata": {
    "slideshow": {
     "slide_type": "subslide"
    }
   },
   "source": [
    "## Technical Debt/Code improvements\n",
    "\n",
    "- More demos/documentation for advanced functionality. *Started:* https://github.com/rdkit/rdkit-tutorials\n",
    "- Ongoing performance improvements\n",
    "- Explore use of GPUs\n",
    "- Extend and better document the SWIG wrappers\n",
    "- Switch to boost.logging"
   ]
  },
  {
   "cell_type": "markdown",
   "metadata": {
    "slideshow": {
     "slide_type": "fragment"
    }
   },
   "source": [
    "[This](http://bukai.pharm.or.jp/bukai_kozo/SARNews/SARNews_19.pdf) shouldn't be the only available tutorial for the ph4 embedding functionality:\n",
    "![japanese ph4 tutorial](images/ph4_tutorial.png)"
   ]
  },
  {
   "cell_type": "markdown",
   "metadata": {
    "slideshow": {
     "slide_type": "subslide"
    }
   },
   "source": [
    "## Integrations\n",
    "- Additional KNIME nodes\n",
    "- Additional functionality for the PostgreSQL cartridge\n",
    "- Getting the Lucene integration to v1\n",
    "- Improve 3D integration with IPython notebook\n",
    "- Interactive 2D sketches in IPython notebook\n",
    "- Continued exploration of RDKit use in Javascript via emscripten\n",
    "- Explore integration with one of the NoSQL document stores (i.e. MongoDb, CouchDb, etc.)\n",
    "- Explore integration with Spark"
   ]
  },
  {
   "cell_type": "markdown",
   "metadata": {
    "slideshow": {
     "slide_type": "subslide"
    }
   },
   "source": [
    "## New features: 2D\n",
    "- ongoing improvements in molecule-drawing code\n",
    "- improved S group support\n",
    "- pure RDKit molecular standardization\n",
    "- get molecule hashing code to v1\n",
    "- canonical tautomer generation\n",
    "- canonical CTAB generation\n",
    "- robust and flexible R-group decomposition\n",
    "- implementation of a \"scaffold hopping\" fingerprint like ERG (extended reduced graphs)\n",
    "- improved query-query matching to allow pseudo-Markush substructure searches"
   ]
  },
  {
   "cell_type": "markdown",
   "metadata": {
    "slideshow": {
     "slide_type": "subslide"
    }
   },
   "source": [
    "## New features: 3D\n",
    "- implicit solvent model for the force fields\n",
    "- implementation of a 3D pharmacophore fingerprint\n",
    "- go beyond basics for 3D pharmacophore analysis\n",
    "- get the pharmacophore embedding code to v1\n",
    "- implementation of one-or-more shape-based fingerprints\n",
    "- shape-based alignment\n",
    "- other alignment-free 3D similarity approaches\n",
    "- generation of molecular surfaces\n",
    "- molecular-interaction fields (to allow 3D QSAR)\n",
    "- template-guided embedding in a protein pocket"
   ]
  },
  {
   "cell_type": "markdown",
   "metadata": {
    "slideshow": {
     "slide_type": "slide"
    }
   },
   "source": [
    "# Thanks!\n"
   ]
  }
 ],
 "metadata": {
  "anaconda-cloud": {},
  "celltoolbar": "Slideshow",
  "hide_input": false,
  "kernelspec": {
   "display_name": "Python [default]",
   "language": "python",
   "name": "python3"
  },
  "language_info": {
   "codemirror_mode": {
    "name": "ipython",
    "version": 3
   },
   "file_extension": ".py",
   "mimetype": "text/x-python",
   "name": "python",
   "nbconvert_exporter": "python",
   "pygments_lexer": "ipython3",
   "version": "3.5.1"
  }
 },
 "nbformat": 4,
 "nbformat_minor": 0
}
